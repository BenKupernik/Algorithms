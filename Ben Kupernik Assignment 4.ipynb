{
 "cells": [
  {
   "cell_type": "markdown",
   "metadata": {
    "deletable": false,
    "editable": false,
    "nbgrader": {
     "checksum": "6f67ee2b1e65e1f08882d5c311a652b5",
     "grade": false,
     "grade_id": "cell-cc92243d53530a68",
     "locked": true,
     "schema_version": 1,
     "solution": false
    }
   },
   "source": [
    "# CSPB 3104 Assignment 4:"
   ]
  },
  {
   "cell_type": "markdown",
   "metadata": {
    "deletable": false,
    "editable": false,
    "nbgrader": {
     "checksum": "393de84110c62844ccd1caec4398ed3c",
     "grade": false,
     "grade_id": "cell-d39a5349c12a82ad",
     "locked": true,
     "schema_version": 1,
     "solution": false
    }
   },
   "source": [
    "***\n",
    "# Instructions\n",
    "\n",
    "This assignment is to be completed as a python3 notebook.  When you upload, please upload the completed notebook (ipynb file).\n",
    "\n",
    "The questions  provided  below will ask you to either write code or \n",
    "write answers in the form of markdown.\n",
    "\n",
    " Markdown syntax guide is here: [click here](https://github.com/adam-p/markdown-here/wiki/Markdown-Cheatsheet)\n",
    "\n",
    "Using markdown you can typeset formulae using latex.\n",
    "This way you can write nice readable answers with formulae like thus:\n",
    "\n",
    "The algorithm runs in time $\\Theta\\left(n^{2.1\\log_2(\\log_2( n \\log^*(n)))}\\right)$, \n",
    "where $\\log^*(n)$ is the inverse _Ackerman_ function.\n",
    "\n",
    "__Double click anywhere on this box to find out how your instructor typeset it. Press Shift+Enter to go back.__\n",
    "\n",
    "***"
   ]
  },
  {
   "cell_type": "markdown",
   "metadata": {
    "deletable": false,
    "editable": false,
    "nbgrader": {
     "checksum": "871eb541c1d418aa4f1ca4c48aa520fc",
     "grade": false,
     "grade_id": "cell-b993b6aab5013b9e",
     "locked": true,
     "schema_version": 1,
     "solution": false
    }
   },
   "source": [
    "## Question 1\n",
    "\n",
    "\n",
    "\n",
    " Your professor has the brilliant idea of using heaps to select the pivot in the quicksort algorithm as follows:\n",
    "   - Heapify the array $a$.\n",
    "   - Choose a leaf element at random  (i.e, an element in $A[\\lceil \\frac{n}{2} \\rceil ] , \\ldots, A[n]$ ) and use it as a pivot.\n",
    "   - Apply Lomuto's partitioning. \n",
    "\n",
    " If this scheme is used in quicksort, what is the __worst case__ complexity of the resulting algorithm?\n",
    "\n",
    "\n",
    "\n",
    "\n",
    "\n"
   ]
  },
  {
   "cell_type": "markdown",
   "metadata": {
    "deletable": false,
    "nbgrader": {
     "checksum": "7a0d1bd1b9396d994f9b44351f006422",
     "grade": true,
     "grade_id": "cell-500eb5d207ef0ea0",
     "locked": false,
     "points": 10,
     "schema_version": 1,
     "solution": true
    }
   },
   "source": [
    "Well because we know that the largest element in a heap will always be in the last half of the heap, the worst case is we always pick the largest value as our pivot. Thus our complexity in this case is $\\Theta\\ (n^2)$."
   ]
  },
  {
   "cell_type": "markdown",
   "metadata": {
    "deletable": false,
    "editable": false,
    "nbgrader": {
     "checksum": "4710b959a700f0ccd99a5d7f48b222dd",
     "grade": false,
     "grade_id": "cell-66179a16152d8275",
     "locked": true,
     "schema_version": 1,
     "solution": false
    }
   },
   "source": [
    "---\n",
    "## Question 2a: Move Negatives To Left\n",
    "\n",
    " You are given an input array $a$ with negative and positive numbers. Write an algorithm that partitions the array so that the negative numbers are moved to the left hand side and positive numbers to the right hand side. However, the relative ordering between the negative numbers should not be altered. However you may alter the ordering amongst the positive numbers.\n",
    "\n",
    "\n",
    "\n",
    " Input: array a with positive and negative numbers. Size = n. \n",
    "\n",
    " Output: partitioned array a, index j such that $a[0], \\ldots, a[j-1]$ are negative and $a[j], \\ldots, a[n-1]$ are positive.\n",
    "\n",
    " Note since arrays are passed by reference in python, you just need to return j\n",
    "\n",
    " Constraints: must be done in place. Relative ordering between negative elements unchanged.\n",
    "\n",
    " Example: \n",
    "\n",
    " Input array a = [-2, 3, -1, 4, 5, -3, -4, -1, -2, 5]\n",
    "\n",
    " Output array a = [-2, -1, -3, -4, -1, -2, 3, 5, 5, 4]\n",
    "\n",
    " Output       j = 6\n"
   ]
  },
  {
   "cell_type": "code",
   "execution_count": 1,
   "metadata": {
    "deletable": false,
    "nbgrader": {
     "checksum": "d6fae7679d26ede07ed374a9d2c94599",
     "grade": false,
     "grade_id": "cell-4ba49cfbe820eb9b",
     "locked": false,
     "schema_version": 1,
     "solution": true
    }
   },
   "outputs": [],
   "source": [
    "def move_negatives_to_left(a):\n",
    "    length  = len(a)\n",
    "    h = 0\n",
    "    count = 0\n",
    "\n",
    "    for i in range (0, length): #master loop\n",
    "        if a[i] > 0:\n",
    "            if h == 0:#initalise h to correct value\n",
    "                h = (i + 1)\n",
    "                \n",
    "            for h in range (h, length):#find the next negative number\n",
    "                if a[h] < 0:#switch the positve and negitve number\n",
    "                    a[i], a[h] = a[h], a[i]\n",
    "                    break\n",
    "                    \n",
    "            if h == (length - 1):\n",
    "                break\n",
    "            \n",
    "    for count in range(1, length):\n",
    "        if ((a[count - 1] < 0) and a[count] > 0):\n",
    "            return count\n",
    "    if a[0] < 0:\n",
    "        count = length\n",
    "        return count\n",
    "    elif a[0] > 0:\n",
    "        count = 0\n",
    "        return count"
   ]
  },
  {
   "cell_type": "markdown",
   "metadata": {
    "deletable": false,
    "editable": false,
    "nbgrader": {
     "checksum": "150d909c5bc1552a87cd78f810c7dba1",
     "grade": false,
     "grade_id": "cell-2fbd90a2db572ce6",
     "locked": true,
     "schema_version": 1,
     "solution": false
    }
   },
   "source": [
    "__2(b):__ Give the running time of your solution and briefly explain the logic by clearly writing down\n",
    "the loop invariants that hold during the operation of your algorithm and why these invariants lead to the correct result."
   ]
  },
  {
   "cell_type": "markdown",
   "metadata": {
    "deletable": false,
    "nbgrader": {
     "checksum": "59b9d35f8704d91a3470203654397281",
     "grade": true,
     "grade_id": "cell-b02c0f60558db791",
     "locked": false,
     "points": 10,
     "schema_version": 1,
     "solution": true
    }
   },
   "source": [
    "This algorithm runs in $\\Theta\\ (n)$ time and has three regions controlled by two for loops. The first for loop is bounded by index 0 to I and is the negative region. The second is bounded by index I + 1 to h and is the positive region. The third region is bounded by h + 1 to the length of the list. Once the bounds of either the positive or negative regions equal the length of the list both loops exit. Because they I and h variables can only grow by increasing the sorted area of this list and because the loops only exit when the sorted area equals the entire list the loop invariants guarantee the result were looking for. And because the first two loops will never look at the same value twice, they run in $\\Theta\\ (n)$ time as does the third. So, the overall time is $\\Theta\\ (n)$. On a side note I’m pretty sure there’s a smarter way to find the pivot than looking through the entire list but I keep getting an off by one error when I try it and this technically doesn’t increase the asymptotic running time so I’m going to be lazy and make math work for me for once."
   ]
  },
  {
   "cell_type": "markdown",
   "metadata": {
    "deletable": false,
    "editable": false,
    "nbgrader": {
     "checksum": "d72dd1ee9cd4118e152d6bee038b8fb1",
     "grade": false,
     "grade_id": "cell-a8636f88e42a5631",
     "locked": true,
     "schema_version": 1,
     "solution": false
    }
   },
   "source": [
    "---\n",
    "## Question 3: Median of Median Selection.\n",
    "\n",
    " In the class, we analyzed an approach for pivot selection that used median of 5 medians.  Here we explore what happens\n",
    "with median of 3 medians.\n",
    "\n",
    " 1. Divide the input array $a$ of size n into $\\frac{n}{3}$ groups of $3$ elements each.\n",
    " 2. Calculate the median of each group of 3 to create a new array $\\hat{a}$ of these medians.\n",
    " 3. Recursively apply the algorithm to find the median of $\\hat{a}$. Let it be $m$.\n",
    " 4. Use $m$ as the pivot element to partition the original array $a$.\n",
    "\n",
    "__3(a)__ How many elements in the array $a$ are guaranteed to be less than the chosen pivot $m$? How many are guaranteed to be greater? Assume all elements in the array $a$ are distinct.\n",
    "\n",
    "\n",
    "\n",
    "\n",
    "\n",
    "\n",
    "\n",
    "\n",
    "\n"
   ]
  },
  {
   "cell_type": "markdown",
   "metadata": {
    "deletable": false,
    "nbgrader": {
     "checksum": "2a78c83e499a1f89c214f7cfee63d608",
     "grade": true,
     "grade_id": "cell-21d980b003edcd7a",
     "locked": false,
     "points": 10,
     "schema_version": 1,
     "solution": true
    }
   },
   "source": [
    "Ok so using the same logic as the video (the part 17 minuets in) the median of medians $m$ will be at $n/6$. Therefore there will be $n/6$ medians before it all with at least one element that is smaller than $m$. Giving a $(2n)/6$ or $1/3$ number of elements that is guaranteed to be smaller and larger than $m$."
   ]
  },
  {
   "cell_type": "markdown",
   "metadata": {
    "deletable": false,
    "editable": false,
    "nbgrader": {
     "checksum": "66052be2bee3b65fe2993ce8c7b2de0a",
     "grade": false,
     "grade_id": "cell-1807a9189d3a49c9",
     "locked": true,
     "schema_version": 1,
     "solution": false
    }
   },
   "source": [
    " __3(b)__ If $m$ computed using the median of 3 medians were used to partition the array $a$ for a *quickselect* algorithm that is used to find the median of an array $a$, write down the recurrence for $T(n)$, the time taken to find the median of an array of size $n$ using the quick select algorithm with the median of 3 medians trick.\n"
   ]
  },
  {
   "cell_type": "markdown",
   "metadata": {
    "deletable": false,
    "nbgrader": {
     "checksum": "7ab57e89295273cbfa3b7520d5bde5ce",
     "grade": true,
     "grade_id": "cell-c816d4e898ab76d5",
     "locked": false,
     "points": 10,
     "schema_version": 1,
     "solution": true
    }
   },
   "source": [
    "In its final form it should be $\\Theta = T((1/3)n) + t((2/3)n) + \\Theta(n)$"
   ]
  },
  {
   "cell_type": "markdown",
   "metadata": {
    "deletable": false,
    "editable": false,
    "nbgrader": {
     "checksum": "4e2e52cb59d005186f422b8a4d67a3b5",
     "grade": false,
     "grade_id": "cell-9c62273ea26b5433",
     "locked": true,
     "schema_version": 1,
     "solution": false
    }
   },
   "source": [
    " __3(c)__ The celebrated \"Akra-Bazzi\" method shows that the recurrence $S(n) = S(\\alpha n) + S( (1-\\alpha)n) + \\Theta(n)$ with base case $S(1) = \\Theta(1)$ has solution $S(n) = \\Theta(n \\log (n) )$. Use this to show that median of 3 medians trick fails to achieve a linear time algorithm for quickselect. (**Note** However, as we saw in the lecture, median of 5 medians works to provide $\\Theta(n)$ deterministic selection algorithm or $\\Theta(n \\log(n))$ quicksort that does not depend on randomization in any way)."
   ]
  },
  {
   "cell_type": "markdown",
   "metadata": {
    "deletable": false,
    "nbgrader": {
     "checksum": "0565dac1fed9be779e84506551ef6d79",
     "grade": true,
     "grade_id": "cell-d3ef115f191421d9",
     "locked": false,
     "points": 10,
     "schema_version": 1,
     "solution": true
    }
   },
   "source": [
    "Ok so I can take the above equation and rewrite it as $\\Theta = T((1/3)n) + t((1-(1/3))n) + \\Theta(n)$. And since if we apply this scheme to a list of n = 1 it will have a constant running time this theorem applies. Therefore math-magically the running time is $nlog(n)$."
   ]
  },
  {
   "cell_type": "markdown",
   "metadata": {
    "deletable": false,
    "editable": false,
    "nbgrader": {
     "checksum": "9dee874f33e77c51b0f5f520a6f06d74",
     "grade": false,
     "grade_id": "cell-82b69a9b275bc571",
     "locked": true,
     "schema_version": 1,
     "solution": false
    }
   },
   "source": [
    "---\n",
    "\n",
    "## Question 4: Detective Work on Pre-Order Traversal of a BST\n",
    "\n",
    "\n",
    " An BST with integer keys in each node is traversed using pre-order traversal and the keys in each node are presented in the order\n",
    "they are visited as an array $a$ of $n$ elements -- $a: [a[1], \\ldots, a[n]]$. Assume that the elements of this array are all distinct."
   ]
  },
  {
   "cell_type": "markdown",
   "metadata": {
    "deletable": false,
    "editable": false,
    "nbgrader": {
     "checksum": "4bcde34c8f42a69a888200e83f75f005",
     "grade": false,
     "grade_id": "cell-0e7a2a8bec29c68a",
     "locked": true,
     "schema_version": 1,
     "solution": false
    }
   },
   "source": [
    "\n",
    "\n",
    " __4(a)__ Describe an algorithm to reconstruct the tree in pseudocode. What is the complexity of your algorithm? \n",
    " \n",
    " **Hint:** First identify the root of the tree. Next, how do we identify which elements of the array belong to the left subtree of the root, and which elements to the right subtree? Once that is done, can you recursively perform the reconstruction.\n",
    "\n",
    " Note that you will learn how to build trees properly in your CSPB 2270 class. Here, assume a pseudocode function called `build_tree(n, T1, T2)` that build a tree with root node n and subtrees T1, T2 and returns it.\n",
    "\n"
   ]
  },
  {
   "cell_type": "markdown",
   "metadata": {
    "deletable": false,
    "nbgrader": {
     "checksum": "0bd04cad356efae0bef0cf082303eac5",
     "grade": true,
     "grade_id": "cell-eea75f81136de1cd",
     "locked": false,
     "points": 15,
     "schema_version": 1,
     "solution": true
    }
   },
   "source": [
    "```\n",
    "if len(a) == 0 #if the length of the array is one return a bst of 1 value\n",
    "    return tree\n",
    " \n",
    "for i in a: #find the first element that is larger than the root ie the start of the right hand side\n",
    "    if a[i] > a[0]\n",
    "    break\n",
    "\n",
    "for j in range(1,i)#should construct the left hand branch of the tree\n",
    "    t1 = build_tree(a[j], t1, t2)\n",
    "  \n",
    "for j in range(i+1,len(a))#should construct the right hand branch of the tree\n",
    "    t2 = build_tree(a[j], t1, t2)\n",
    "   \n",
    "t3 = build_tree(a[0], t1, t2)#adds the two branches together under the root\n",
    "\n",
    "return t3\n",
    "\n",
    "``` \n",
    "So I can't actually tell you the runtime for this function because I don't know the runtime for the build tree function. That being said if we assume it is less than the run time for this function, we can at least put a lower bound on it. Using the master method this will split the array in to 2 lists with an average value of $2/n$, giving $\\Omega(n)$."
   ]
  },
  {
   "cell_type": "markdown",
   "metadata": {
    "deletable": false,
    "editable": false,
    "nbgrader": {
     "checksum": "0a510ab7b91f4da740a1ffbc50bfc2c5",
     "grade": false,
     "grade_id": "cell-f2f0c7b193b4a42e",
     "locked": true,
     "schema_version": 1,
     "solution": false
    }
   },
   "source": [
    "\n",
    " __4(b)__ Describe an algorithm that converts the array obtained using the pre-order traversal of a BST into an array representing the post-order traversal without reconstructing the tree. **Hint:** Use the previous part but now instead of reconstructing the tree, think of how pre and post order traversals differ."
   ]
  },
  {
   "cell_type": "markdown",
   "metadata": {
    "deletable": false,
    "nbgrader": {
     "checksum": "183dd9f6c103591df6f909fdaf5ab80a",
     "grade": true,
     "grade_id": "cell-e9b84a8c3b425b2a",
     "locked": false,
     "points": 15,
     "schema_version": 1,
     "solution": true
    }
   },
   "source": [
    "```\n",
    "def per_to_post(a)\n",
    "    if len(a) == 0 #if the length of the array is one return a bst of 1 value #base case\n",
    "        print a\n",
    "\n",
    "    for i in a: #find the first element that is larger than the root ie the start of the right hand side\n",
    "        if a[i] > a[0]\n",
    "        break\n",
    "\n",
    "    pre_to_post(a[1:i]) #prints the left hand side\n",
    "    pre_to_post(a[i:len(a)]) #prints the right hand side\n",
    "    print a[0] #prints root\n",
    "```\n"
   ]
  },
  {
   "cell_type": "markdown",
   "metadata": {
    "deletable": false,
    "editable": false,
    "nbgrader": {
     "checksum": "2ef385587fe8ab0ff5a10fdd7112e9d5",
     "grade": false,
     "grade_id": "cell-2aca70a42a7c6559",
     "locked": true,
     "schema_version": 1,
     "solution": false
    }
   },
   "source": [
    "## Testing your solutions -- Do not edit code beyond this point"
   ]
  },
  {
   "cell_type": "code",
   "execution_count": 85,
   "metadata": {
    "deletable": false,
    "editable": false,
    "nbgrader": {
     "checksum": "b0eb55ccce4c3b469caff6c156319267",
     "grade": true,
     "grade_id": "cell-0daf295a92acfcd1",
     "locked": true,
     "points": 20,
     "schema_version": 1,
     "solution": false
    }
   },
   "outputs": [
    {
     "name": "stdout",
     "output_type": "stream",
     "text": [
      "Num Tests =  10000  Passed =  10000\n"
     ]
    }
   ],
   "source": [
    "import random\n",
    "\n",
    "def unequalArrays(a, b):\n",
    "    n = min(len(a), len(b))\n",
    "    for j in range(n):\n",
    "        if a[j] != b[j]:\n",
    "            return True\n",
    "    if len(a) != len(b):\n",
    "        return True\n",
    "    return False\n",
    "\n",
    "def test_move_negatives(a):\n",
    "    b = [e for e in a if e < 0]\n",
    "    j0 = len(b)\n",
    "    j = move_negatives_to_left(a)\n",
    "    res = True\n",
    "    if j != j0:\n",
    "        print('Failed: input =', a)\n",
    "        print('Failed: expected value j = ', j0, ' Your code obtained j = ', j)\n",
    "        res = False\n",
    "    if unequalArrays(b, a[0:j]):\n",
    "        if res:\n",
    "            print('Failed: input =', a)\n",
    "        print('Failed: the LHS portion should be = ', b)\n",
    "        print('\\t Your code returned: ', a[0:j])\n",
    "        res = False\n",
    "    return res\n",
    "\n",
    "def createRandomArray(n):\n",
    "    a = []\n",
    "    for i in range(n):\n",
    "        j = random.randint(-1000,1000)\n",
    "        if j == 0: \n",
    "            j = 1\n",
    "        a.append(j)\n",
    "    return a\n",
    "\n",
    "nPassed = 0\n",
    "nTests = 10000\n",
    "for i in range(0, nTests):\n",
    "    a = createRandomArray(9)\n",
    "    res = test_move_negatives(a)\n",
    "    if res: \n",
    "        nPassed = nPassed + 1\n",
    "print('Num Tests = ', nTests, ' Passed = ', nPassed)"
   ]
  },
  {
   "cell_type": "code",
   "execution_count": null,
   "metadata": {},
   "outputs": [],
   "source": []
  },
  {
   "cell_type": "code",
   "execution_count": null,
   "metadata": {},
   "outputs": [],
   "source": []
  }
 ],
 "metadata": {
  "kernelspec": {
   "display_name": "Python 3",
   "language": "python",
   "name": "python3"
  },
  "language_info": {
   "codemirror_mode": {
    "name": "ipython",
    "version": 3
   },
   "file_extension": ".py",
   "mimetype": "text/x-python",
   "name": "python",
   "nbconvert_exporter": "python",
   "pygments_lexer": "ipython3",
   "version": "3.8.5"
  }
 },
 "nbformat": 4,
 "nbformat_minor": 2
}
