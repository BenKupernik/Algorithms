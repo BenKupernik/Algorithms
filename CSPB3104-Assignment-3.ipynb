{
 "cells": [
  {
   "cell_type": "markdown",
   "metadata": {
    "deletable": false,
    "editable": false,
    "nbgrader": {
     "checksum": "9d050f4ea2fe4ec257d2203c783e5325",
     "grade": false,
     "grade_id": "cell-0b121a73255bed02",
     "locked": true,
     "schema_version": 1,
     "solution": false
    }
   },
   "source": [
    "# CSPB 3104 Assignment 3:"
   ]
  },
  {
   "cell_type": "markdown",
   "metadata": {
    "deletable": false,
    "editable": false,
    "nbgrader": {
     "checksum": "452612bc0436a4f1249ba98d43d138be",
     "grade": false,
     "grade_id": "cell-46512401074a6917",
     "locked": true,
     "schema_version": 1,
     "solution": false
    }
   },
   "source": [
    "***\n",
    "# Instructions\n",
    "\n",
    "This assignment is to be completed as a python3 notebook.\n",
    "\n",
    "The questions  provided  below will ask you to either write code or \n",
    "write answers in the form of markdown.\n",
    "\n",
    " Markdown syntax guide is here: [click here](https://github.com/adam-p/markdown-here/wiki/Markdown-Cheatsheet)\n",
    "\n",
    "Using markdown you can typeset formulae using latex.\n",
    "This way you can write nice readable answers with formulae like thus:\n",
    "\n",
    "The algorithm runs in time $\\Theta\\left(n^{2.1\\log_2(\\log_2( n \\log^*(n)))}\\right)$, \n",
    "where $\\log^*(n)$ is the inverse _Ackerman_ function.\n",
    "\n",
    "__Double click anywhere on this box to find out how your instructor typeset it. Press Shift+Enter to go back.__\n",
    "\n",
    "***"
   ]
  },
  {
   "cell_type": "markdown",
   "metadata": {
    "deletable": false,
    "editable": false,
    "nbgrader": {
     "checksum": "73e1fbc3b5c7157f3bef20465999b033",
     "grade": false,
     "grade_id": "cell-1ccdfb3a5473d2c9",
     "locked": true,
     "schema_version": 1,
     "solution": false
    }
   },
   "source": [
    "## Question 1\n",
    "\n",
    "Answer the following questions about heaps.\n",
    "\n",
    "__1(a)__  Write down an algorithm to find the third smallest element in a minheap with more than $3$ elements. You may write pseudocode or english description of the algorithm's steps. What is the running time complexity on a heap of size $n$? * Assume all elements in the heap are distinct *\n",
    "\n",
    "\n",
    "\n",
    "\n"
   ]
  },
  {
   "cell_type": "markdown",
   "metadata": {
    "deletable": false,
    "nbgrader": {
     "checksum": "2a58b73e05a482713e5ec701fa85e11b",
     "grade": true,
     "grade_id": "cell-44e21cce771fd831",
     "locked": false,
     "points": 20,
     "schema_version": 1,
     "solution": true
    }
   },
   "source": [
    "Due to the way min heaps work the third smallest element has to be in the first 7 elements in the heap and it can't be the first. Meaning it has to be somewhere in elements 2-7. So, a simple loop is needed to find the third smallest. Because the loop runs a maximum of 4 times though the time complexity of this algorithm is $\\Theta(1)$.\n",
    "```\n",
    "small = minheap[1]\n",
    "smaller = minheap[2]\n",
    "\n",
    "if(minheap.len() < 7) #check the length of the minheap\n",
    "    len = minheap.len()\n",
    "else\n",
    "\tlen = 7\n",
    "\n",
    "if(small < smaller) \n",
    "\tswap(small, smaller)\n",
    "    \n",
    "for (i = 3: I < len: i++) #loop through the remaining values and update small/smallest when needed\n",
    "\tif (minheap[i] < small)\n",
    "\t\tsmall = minheap[i]\n",
    "\t\tif(small < smaller)\n",
    "\t\t\tswap(small, smaller)\n",
    "```"
   ]
  },
  {
   "cell_type": "markdown",
   "metadata": {
    "deletable": false,
    "editable": false,
    "nbgrader": {
     "checksum": "777eec29ec9c92175a07e6dd97514191",
     "grade": false,
     "grade_id": "cell-382bd790c682ff35",
     "locked": true,
     "schema_version": 1,
     "solution": false
    }
   },
   "source": [
    "__1(b)__ We wish to find the largest element in a min-heap represented by array $A[1], \\ldots, A[n]$. Show using a series of examples for $n=7$ that any element starting from $A[\\lceil{\\frac{n}{2}}\\rceil], \\ldots, A[n]$ can be the largest element. Your answer should be in the form of 4 min heaps."
   ]
  },
  {
   "cell_type": "markdown",
   "metadata": {
    "deletable": false,
    "nbgrader": {
     "checksum": "405bae515ba31f6e3239219bfb1a6cdf",
     "grade": true,
     "grade_id": "cell-b135c81ce6b4d8b3",
     "locked": false,
     "points": 20,
     "schema_version": 1,
     "solution": true
    }
   },
   "source": [
    "Here are 4 minheaps of $n = 7$ that show that the latgest element can be anywhere in the $n/2$ to $n$ position of the minheap.\n",
    "```\n",
    "[27,39,54,2008,40,55,67]\n",
    "[1,5,8,6,12,9,11]\n",
    "[5,8,9,9,10,19,15]\n",
    "[7,10,2,22,17,50,212]\n",
    "```"
   ]
  },
  {
   "cell_type": "markdown",
   "metadata": {
    "deletable": false,
    "editable": false,
    "nbgrader": {
     "checksum": "afdea52813d46083340cc7197a734959",
     "grade": false,
     "grade_id": "cell-4672753a75a929f2",
     "locked": true,
     "schema_version": 1,
     "solution": false
    }
   },
   "source": [
    "***\n",
    "## Question 2\n",
    "\n",
    "Suppose you have an array __A__ of *n* distinct elements.\n",
    "\n",
    "The following pseudocode finds the k biggest values of __A__:\n",
    "\n",
    "```\n",
    "Biggest(A, k): \\\\returns an array of the k biggest values of A\n",
    "        mergesort(A)  \n",
    "        return A[n-k, n]\n",
    " ```\n",
    " \n",
    "__2(a)__ What is the complexity of the above algorithm and why?\n",
    "\n"
   ]
  },
  {
   "cell_type": "markdown",
   "metadata": {
    "deletable": false,
    "nbgrader": {
     "checksum": "430a3d8bbf4fc986718a97ee29fc7251",
     "grade": true,
     "grade_id": "cell-1575a845d33f4f18",
     "locked": false,
     "points": 15,
     "schema_version": 1,
     "solution": true
    }
   },
   "source": [
    "Theres two lines of code in this algorithm so let's look at those. The first calles mergesort which has a complexity of $\\Theta\\ nlog(n)$. The second is returning a sliced list which has a constant complexity. So this algorithm runs in $\\Theta\\ nlog(n)$ time."
   ]
  },
  {
   "cell_type": "markdown",
   "metadata": {
    "deletable": false,
    "editable": false,
    "nbgrader": {
     "checksum": "11517f84d1fc563ae06775cf8e9bed77",
     "grade": false,
     "grade_id": "cell-8d54d1cf5d00c3e1",
     "locked": true,
     "schema_version": 1,
     "solution": false
    }
   },
   "source": [
    "__2(b)__ Now suppose that the order of the array was important.  Design and implement an algorithm that returns an array of the k largest elements of __A__ in their original order, and it should run in $\\Theta(nk)$ time.\n",
    "\n",
    "For example, BiggestInOrder([0,5,1,3,4], 3) should return [5,3,4]."
   ]
  },
  {
   "cell_type": "code",
   "execution_count": 1,
   "metadata": {
    "deletable": false,
    "nbgrader": {
     "checksum": "ce703e2dbcacac7bdea744bdfe402f42",
     "grade": false,
     "grade_id": "cell-86e5b5d458fdfe8a",
     "locked": false,
     "schema_version": 1,
     "solution": true
    }
   },
   "outputs": [],
   "source": [
    "def BiggestInOrder(A, k):\n",
    "    biggist = []\n",
    "    length = len(A)\n",
    "    \n",
    "    ASorted = sorted(A) #nlog(n) time\n",
    "    ASorted = ASorted[(length - k):(length)]\n",
    "    \n",
    "    for i in A: #n * k time\n",
    "        for j in ASorted:\n",
    "            if i == j:\n",
    "                biggist.append(i)\n",
    "    return biggist"
   ]
  },
  {
   "cell_type": "markdown",
   "metadata": {
    "deletable": false,
    "editable": false,
    "nbgrader": {
     "checksum": "c3a70315d4af5fd2730f9742ca62b2dc",
     "grade": false,
     "grade_id": "cell-a97e8fabdb7f9862",
     "locked": true,
     "schema_version": 1,
     "solution": false
    }
   },
   "source": [
    "__2(c)__ If we don't care about the original ordering, then we can use a heap to design an algorithm that runs faster than the one in part (b).  Design and implement an algorithm that returns an array of the k largest elements of __A__ using a heap."
   ]
  },
  {
   "cell_type": "code",
   "execution_count": 4,
   "metadata": {
    "deletable": false,
    "nbgrader": {
     "checksum": "ab624a8a786a226b7a5c1db9114d7861",
     "grade": false,
     "grade_id": "cell-87b181f2bb909f14",
     "locked": false,
     "schema_version": 1,
     "solution": true
    }
   },
   "outputs": [],
   "source": [
    "import heapq\n",
    "def BiggestOutOfOrder(A, k):\n",
    "    biggist = []\n",
    "    temp = 0\n",
    "    length = len(A)\n",
    "    \n",
    "    heapq.heapify(A)\n",
    "    for x in range (0, length):\n",
    "       temp = heapq.heappop(A)\n",
    "       biggist.append(temp)\n",
    "\n",
    "    return biggist[(length - k):(length)]"
   ]
  },
  {
   "cell_type": "markdown",
   "metadata": {
    "deletable": false,
    "editable": false,
    "nbgrader": {
     "checksum": "01842f0aca59b154b8c13927ecd8c034",
     "grade": false,
     "grade_id": "cell-999aec4713dd0723",
     "locked": true,
     "schema_version": 1,
     "solution": false
    }
   },
   "source": [
    "__2(d)__  What is the complexity of your algorithm for part (c)?"
   ]
  },
  {
   "cell_type": "markdown",
   "metadata": {
    "deletable": false,
    "nbgrader": {
     "checksum": "d4aca0fb5321791a5cb6a60f69794b68",
     "grade": true,
     "grade_id": "cell-d32a842a63f38af6",
     "locked": false,
     "points": 15,
     "schema_version": 1,
     "solution": true
    }
   },
   "source": [
    "The first thing we do in this algorithm that doesn’t have a constant time is the heapify operation, with runs in time $\\Theta\\ (n)$. The next is the for loop with time $\\Theta\\ (n)$ and finally the heappop operation in the for loop with a $\\Theta\\  log(n)$. So we have $\\Theta\\ (n) + \\Theta\\ (nlog(n))$ but because we only care about the leading term we have $\\Theta\\ (nlog(n))$ as our final time complexity."
   ]
  },
  {
   "cell_type": "markdown",
   "metadata": {
    "deletable": false,
    "editable": false,
    "nbgrader": {
     "checksum": "849d0c1a3727267d0bb2bd7df00d01e6",
     "grade": false,
     "grade_id": "cell-ea68d6420d3528fa",
     "locked": true,
     "schema_version": 1,
     "solution": false
    }
   },
   "source": [
    "---\n",
    "## Testing your solutions -- Do not edit code beyond this point"
   ]
  },
  {
   "cell_type": "code",
   "execution_count": 6,
   "metadata": {
    "deletable": false,
    "editable": false,
    "nbgrader": {
     "checksum": "589162e20d0b32513b6bcdf7d893003c",
     "grade": true,
     "grade_id": "cell-2b3c60ad9c7c88e4",
     "locked": true,
     "points": 15,
     "schema_version": 1,
     "solution": false
    }
   },
   "outputs": [
    {
     "name": "stdout",
     "output_type": "stream",
     "text": [
      " num tests  =  10000\n",
      " num passed =  10000\n"
     ]
    }
   ],
   "source": [
    "from random import sample, randint\n",
    "def testBiggestInOrder(n_tests, test_size):\n",
    "    n_passed = 0\n",
    "    n_failed = 0\n",
    "    for i in range(0, n_tests):\n",
    "        a = sample( range(-10 * n_tests,  10 * n_tests ), test_size)\n",
    "        k = randint(1, len(a))\n",
    "        kbiggest = BiggestInOrder(a.copy(), k)\n",
    "        if len(kbiggest) != k:\n",
    "            if n_failed < 10:\n",
    "                print(' Code returns the wrong sized array!')\n",
    "            n_failed += 1\n",
    "            continue\n",
    "        if sorted(kbiggest) != sorted(a)[-k:]:\n",
    "            if n_failed < 10:\n",
    "                print(' Code did not return the ', k, ' biggest elements!')\n",
    "                print(' Code returned ', sorted(kbiggest), ' but we wanted ', sorted(a)[-k:], ' of ', a)\n",
    "            n_failed +=1\n",
    "            continue\n",
    "        currIndex = 0\n",
    "        inOrder = True\n",
    "        for j in range(0, len(kbiggest)):\n",
    "            for l in range(currIndex, len(a)):\n",
    "                if kbiggest[j] == a[l]:\n",
    "                    currIndex = l\n",
    "                    break\n",
    "                if l == len(a) - 1:\n",
    "                    inOrder = False\n",
    "        if inOrder == False:\n",
    "            if n_failed < 10:\n",
    "                print(' Code failed for input: ', a, 'returned : ', kbiggest, 'last correct index: ', currIndex)\n",
    "        else:\n",
    "            n_passed = n_passed + 1\n",
    "\n",
    "    return n_passed\n",
    "\n",
    "n_tests = 10000\n",
    "n_passed = testBiggestInOrder(10000, 10)\n",
    "print(' num tests  = ', n_tests)\n",
    "print(' num passed = ', n_passed)"
   ]
  },
  {
   "cell_type": "code",
   "execution_count": 7,
   "metadata": {
    "deletable": false,
    "editable": false,
    "nbgrader": {
     "checksum": "24fd18759631d9f362a938fc37899124",
     "grade": true,
     "grade_id": "cell-591c09b8573a47b0",
     "locked": true,
     "points": 15,
     "schema_version": 1,
     "solution": false
    }
   },
   "outputs": [
    {
     "name": "stdout",
     "output_type": "stream",
     "text": [
      " num tests  =  10000\n",
      " num passed =  10000\n"
     ]
    }
   ],
   "source": [
    "from random import sample, randint\n",
    "def testBiggestOutOfOrder(n_tests, test_size):\n",
    "    n_passed = 0\n",
    "    n_failed = 0\n",
    "    for i in range(0, n_tests):\n",
    "        a = sample( range(-10 * n_tests,  10 * n_tests ), test_size)\n",
    "        k = randint(1, len(a))\n",
    "        kbiggest = BiggestOutOfOrder(a.copy(), k)\n",
    "        if len(kbiggest) != k:\n",
    "            if n_failed < 10:\n",
    "                print(' Code returns the wrong sized array!')\n",
    "            n_failed += 1\n",
    "            continue\n",
    "        if sorted(kbiggest) != sorted(a)[-k:]:\n",
    "            if n_failed < 10:\n",
    "                print(' Code did not return the ', k, ' biggest elements!')\n",
    "                print(' Code returned ', sorted(kbiggest), ' but we wanted ', sorted(a)[-k:], 'where a is', a)\n",
    "            n_failed += 1\n",
    "            continue\n",
    "        n_passed = n_passed + 1\n",
    "    return n_passed\n",
    "\n",
    "n_tests = 10000\n",
    "n_passed = testBiggestOutOfOrder(10000, 10)\n",
    "print(' num tests  = ', n_tests)\n",
    "print(' num passed = ', n_passed)"
   ]
  },
  {
   "cell_type": "code",
   "execution_count": null,
   "metadata": {},
   "outputs": [],
   "source": []
  }
 ],
 "metadata": {
  "kernelspec": {
   "display_name": "Python 3",
   "language": "python",
   "name": "python3"
  },
  "language_info": {
   "codemirror_mode": {
    "name": "ipython",
    "version": 3
   },
   "file_extension": ".py",
   "mimetype": "text/x-python",
   "name": "python",
   "nbconvert_exporter": "python",
   "pygments_lexer": "ipython3",
   "version": "3.8.5"
  }
 },
 "nbformat": 4,
 "nbformat_minor": 2
}
