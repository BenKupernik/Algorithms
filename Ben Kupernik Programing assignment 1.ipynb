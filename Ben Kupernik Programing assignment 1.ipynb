{
 "cells": [
  {
   "cell_type": "markdown",
   "metadata": {},
   "source": [
    "# Programming Assignment \\# 1\n",
    "\n",
    "__Goal:__ \n",
    "\n",
    "This programming assignment will ask you to do the following tasks.\n",
    "\n",
    "(a) Implement some of the sorting algorithms for sorting integer data in ascending order in python3.\n",
    "  - Simple sort (implemented for you)\n",
    "  - Bubble Sort (read from book or online sources)\n",
    "  - Merge Sort\n",
    "  - Quicksort \n",
    "  \n",
    "  \n",
    "(b) Your implementation must count the number of *compare* operations each sorting algorithm carries out.\n",
    "    \n",
    "(c) You must formulate a series of arrays of lengths from $5$ to $100$  (step by 5), that will form the worst case of these\n",
    "sorting algorithms and plot the number of comparisons in the __worst case__ vs. size of input array (x axis)\n",
    " \n",
    "(d) Generate $1000$ random inputs for each size and compute average time. Plot the size of input array (x axis) vs. number of comparisons (y axis)"
   ]
  },
  {
   "cell_type": "markdown",
   "metadata": {},
   "source": [
    "----\n",
    "## Simple Sort"
   ]
  },
  {
   "cell_type": "code",
   "execution_count": 2,
   "metadata": {},
   "outputs": [],
   "source": [
    "%matplotlib inline\n",
    "import matplotlib\n",
    "import numpy as np\n",
    "import matplotlib.pyplot as plt\n",
    "\n",
    "def simple_sort(a):\n",
    "    # must sort the array a in place and return the number of comparisons\n",
    "    num_compare = 0\n",
    "    n = len(a)\n",
    "    for i in range(0, n): # i goes from 0 to n-1\n",
    "        for j in range(i+1, n): # j goes from i+1 to n-1\n",
    "            num_compare = num_compare + 1\n",
    "            if a[i] >= a[j]:\n",
    "                # swap\n",
    "                a[i], a[j] = a[j], a[i]\n",
    "    return num_compare"
   ]
  },
  {
   "cell_type": "code",
   "execution_count": 3,
   "metadata": {},
   "outputs": [
    {
     "name": "stdout",
     "output_type": "stream",
     "text": [
      "Num Comparison =  45\n",
      "Sorted Result =  [-2, -1, 1, 2, 3, 3, 4, 10, 15, 29]\n"
     ]
    }
   ],
   "source": [
    "# TESTING CODE\n",
    "a = [3, 10, 1, 29, -1, 4, 3, 15, 2, -2]\n",
    "nc = simple_sort(a)\n",
    "print('Num Comparison = ', nc)\n",
    "print('Sorted Result = ', a)"
   ]
  },
  {
   "cell_type": "markdown",
   "metadata": {},
   "source": [
    "### Complexity analysis of simple sort.\n",
    "\n",
    "Note that simple sort consists of two loops and regardless of the input array, the first loop runs from n steps. And the second loop runs $n-i-1$ steps where $i$ is the index of the first loop. Thus, the worst case, best case and average case complexity should be $\\sum_{j=1}^{n-1} j = \\frac{n(n-1)}{2}$ comparisons = $\\Theta(n^2)$\n",
    "\n",
    "The code below plots it for arrays of size 5, 10, ..., 100. However, we cannot really distinguish between the number of comparisons for randomized vs. worst case."
   ]
  },
  {
   "cell_type": "code",
   "execution_count": 4,
   "metadata": {},
   "outputs": [
    {
     "data": {
      "image/png": "[encoded data removed]",
      "text/plain": [
       "<Figure size 432x288 with 1 Axes>"
      ]
     },
     "metadata": {
      "needs_background": "light"
     },
     "output_type": "display_data"
    }
   ],
   "source": [
    "import random\n",
    "\n",
    "# CODE TO GENERATE WORST CASE\n",
    "array_sizes = range(5, 100, 5)\n",
    "# Code for creating an already sorted array\n",
    "def create_ascending_sorted_array(a_size):\n",
    "    a = []\n",
    "    for i in range(a_size):\n",
    "        a.append(i)\n",
    "    return a\n",
    "\n",
    "# Code for creating a random array\n",
    "def create_random_shuffled_array(a_size):\n",
    "    a = list(range(a_size))\n",
    "    random.shuffle(a)\n",
    "    return a\n",
    "\n",
    "\n",
    "# Code for running sorting and generating number of compares\n",
    "num_compares_wc = []\n",
    "for n in array_sizes:\n",
    "    a = create_ascending_sorted_array(n)\n",
    "    nc = simple_sort(a)\n",
    "    num_compares_wc.append(nc)\n",
    "    \n",
    "# Randomized comparisons\n",
    "num_compares_random = []\n",
    "num_trials = 1000\n",
    "for n in array_sizes:\n",
    "    total = 0\n",
    "    for m in range(num_trials):\n",
    "        a = create_random_shuffled_array(n)\n",
    "        nc = simple_sort(a)\n",
    "        total = total + nc\n",
    "    avg = total / num_trials\n",
    "    num_compares_random.append(avg)\n",
    "# Code for plotting\n",
    "\n",
    "plt.plot(array_sizes, num_compares_wc, label='Worst Case')\n",
    "plt.plot(array_sizes, num_compares_random, label='Average Case')\n",
    "plt.legend(['Worst Case', 'Average Case'])\n",
    "plt.title('Simple Sort (Worst and Average Cases)')\n",
    "plt.xlabel('Array Size')\n",
    "plt.ylabel('Number of Comparisons')\n",
    "\n",
    "plt.show()"
   ]
  },
  {
   "cell_type": "markdown",
   "metadata": {},
   "source": [
    "----\n",
    "\n",
    "### Bubble Sort"
   ]
  },
  {
   "cell_type": "code",
   "execution_count": 5,
   "metadata": {},
   "outputs": [],
   "source": [
    "def bubble_sort(A):\n",
    "    swap = True\n",
    "    length = len(A)\n",
    "    count = 0\n",
    "    \n",
    "    while swap:\n",
    "        swap = False\n",
    "        for i in range(0,length - 1):\n",
    "            count += 1\n",
    "            if A[i] > A[i + 1]:\n",
    "                A[i], A[i + 1] = A[i + 1], A[i]\n",
    "                swap = True\n",
    "    return count"
   ]
  },
  {
   "cell_type": "markdown",
   "metadata": {},
   "source": [
    "### Complexity Analysis of Bubble Sort\n",
    "\n",
    "With bubble sort the worst and average case complexities are $\\Theta\\ (n^2)$. The worst case is if the array is already sorted in descending order. In this case the maximum number of comparisons are made because the numbers at the beginning and end have to be moved across the entire array. In an average case the number of times the second loop will be run will be equal to the furthest distance a number has to travel in the array. If the numbers are distributed randomly across the array this distance will be some fraction of $n$ or $C(n)*(n)$ where C is some constant less than one. Giving an average time of $\\Theta\\ (n^2)$. The best case is if it is alredy sorted in which case it only goes throu the loop once for $\\Theta\\ (n)$."
   ]
  },
  {
   "cell_type": "code",
   "execution_count": 6,
   "metadata": {},
   "outputs": [
    {
     "data": {
      "image/png": "[encoded data removed]",
      "text/plain": [
       "<Figure size 432x288 with 1 Axes>"
      ]
     },
     "metadata": {
      "needs_background": "light"
     },
     "output_type": "display_data"
    }
   ],
   "source": [
    "import random\n",
    "def makeList(len, num, inc): #makes a list of numbers you can say how long, how many and if you want to increment lists\n",
    "\n",
    "    masterList = []\n",
    "    list = []\n",
    "    for j in range(num):\n",
    "        for i in range(len):\n",
    "            list.append(random.randint(0,10000))\n",
    "        masterList.append(list)\n",
    "        list = []\n",
    "        len += inc\n",
    "    return masterList\n",
    "\n",
    "wcBubbleSortLists = makeList(5,20,5)#makes an array of counts for worst case of bubble sort\n",
    "wcBubbleCount = []\n",
    "for lists in wcBubbleSortLists:\n",
    "    lists.sort(reverse = True)\n",
    "    wcBubbleCount.append(bubble_sort(lists))\n",
    "\n",
    "\n",
    "\n",
    "bubbleCount = []\n",
    "for i in range(5,105,5):#makes 1000 lists of length i\n",
    "    bubbleSortLists = makeList(i,1000,0)#list of lists\n",
    "    totalCount = 0\n",
    "    count = 0\n",
    "    \n",
    "    for lists in bubbleSortLists:#runs every list through bubble sort.\n",
    "        count = bubble_sort(lists)\n",
    "        totalCount += count\n",
    "    \n",
    "    totalCount = totalCount / 1000\n",
    "    bubbleCount.append(totalCount)\n",
    "\n",
    "array_sizes = range(5, 105, 5)\n",
    "plt.plot(array_sizes, wcBubbleCount, label='Worst Case')\n",
    "plt.plot(array_sizes, bubbleCount, label='Average Case')\n",
    "plt.legend(['Worst Case', 'Average Case'])\n",
    "plt.title('bubbleSort (Worst and Average Cases)')\n",
    "plt.xlabel('Array Size')\n",
    "plt.ylabel('Number of Comparisons')\n",
    "\n",
    "plt.show()"
   ]
  },
  {
   "cell_type": "markdown",
   "metadata": {},
   "source": [
    "----\n",
    "### Merge Sort"
   ]
  },
  {
   "cell_type": "code",
   "execution_count": 40,
   "metadata": {},
   "outputs": [],
   "source": [
    "def merge_sort(A): #initial call function that calls the recursive mergeSort\n",
    "    count = 0\n",
    "    end = len(A) - 1\n",
    "    count = mergeSort(A,0,end, 0)\n",
    "    return count\n",
    "    \n",
    "def merge(A, start, middle, end, count):\n",
    "    startR = middle + 1 #start of the right list\n",
    "\n",
    "    while((start <= middle) and (startR <= end)):\n",
    "        \n",
    "        if(A[start] <= A[startR]):\n",
    "\n",
    "            count +=1\n",
    "            start+=1\n",
    "        else:\n",
    "            count += 1\n",
    "            value = A[startR]\n",
    "            shifter = startR\n",
    "\n",
    "            #shifts the values from start to startR to the right\n",
    "            while(shifter != start):\n",
    "                A[shifter] = A[shifter - 1]\n",
    "                shifter -= 1\n",
    "            \n",
    "            #puts the original value of startR where it should be and updates various counts\n",
    "            A[start] = value    \n",
    "            start += 1\n",
    "            middle += 1\n",
    "            startR += 1\n",
    "    return count\n",
    "\n",
    "def mergeSort(A, start, end, count):\n",
    "    if(start < end):\n",
    "        middle = (start + end) // 2\n",
    "            \n",
    "        count = mergeSort(A,start, middle, count)\n",
    "        count= mergeSort(A,middle +1, end, count)\n",
    "        count = merge(A, start, middle, end, count)\n",
    "    \n",
    "    return count\n",
    "    \n",
    "\n",
    "def split(A):#sort of a reverse merge function\n",
    "    \n",
    "    left = []\n",
    "    right = []\n",
    "\n",
    "    for i in range(0, len(A)):\n",
    "        if i % 2 == 0:\n",
    "            left.append(A[i])\n",
    "        if i % 2 == 1:\n",
    "            right.append(A[i])\n",
    "    return right, left\n",
    "            \n",
    "  \n",
    "def worstCase(A): #as you can see by the graph theres a bug somewhere in here I have to track down\n",
    "\n",
    "    if len(A) <= 1:\n",
    "        return A\n",
    "    left = []\n",
    "    right = []\n",
    "    value =[]\n",
    "\n",
    "    right, left = split(A)\n",
    "    left = worstCase(left)\n",
    "    right = worstCase(right)\n",
    "    value = left + right\n",
    "\n",
    "    return value"
   ]
  },
  {
   "cell_type": "markdown",
   "metadata": {},
   "source": [
    "### Complexity Analysis of Merge Sort\n",
    "\n",
    "Using the master method, the best, worst and average cases for merge sort are $\\Theta\\ (nlog(n)$). The difference is going to be in the constant that is dropped before the asymptotical notation. Where this comes in to play is in the merge function where the values at two places in the list are being compared and merged.In the best case all the values in the right list will be greater than the left list and the minimum number of comparisons are made. In the worst case the values relationship will alternate (ie a[0]<b[0], a[1] > b[0], a[1] < b[1] …..) thus maximining the number of comparisons made. To get a list that will result in the worst case for merge sort you do just that. Take a sorted array and split it in to two where the a[0]<b[0], a[1] > b[0], a[1] < b[1] … relationship is observed. Then recursively do this to both half of the list and merge them all back together to get the worst case for merge sort.\n"
   ]
  },
  {
   "cell_type": "code",
   "execution_count": 41,
   "metadata": {},
   "outputs": [
    {
     "data": {
      "image/png": "[encoded data removed]",
      "text/plain": [
       "<Figure size 432x288 with 1 Axes>"
      ]
     },
     "metadata": {
      "needs_background": "light"
     },
     "output_type": "display_data"
    }
   ],
   "source": [
    "wcMergeSortLists = makeList(5,20,5)\n",
    "wcMergeCount = []\n",
    "for lists in wcMergeSortLists:\n",
    "    wcList = worstCase(lists)\n",
    "    wcMergeCount.append(merge_sort(wcList))\n",
    "\n",
    "\n",
    "mergeCount = []\n",
    "for i in range(5,105,5):\n",
    "    mergeSortLists = makeList(i,1000,0)\n",
    "    totalCount = 0\n",
    "    count = 0\n",
    "    \n",
    "    for lists in mergeSortLists:\n",
    "        count = merge_sort(lists)\n",
    "        totalCount += count\n",
    "    \n",
    "    totalCount = totalCount / 1000\n",
    "    mergeCount.append(totalCount)\n",
    "\n",
    "array_sizes = range(5, 105, 5)\n",
    "plt.plot(array_sizes, wcMergeCount, label='Worst Case')\n",
    "plt.plot(array_sizes, mergeCount, label='Average Case')\n",
    "plt.legend(['Worst Case', 'Average Case'])\n",
    "plt.title('mergeSort (Worst and Average Cases)')\n",
    "plt.xlabel('Array Size')\n",
    "plt.ylabel('Number of Comparisons')\n",
    "\n",
    "plt.show()"
   ]
  },
  {
   "cell_type": "markdown",
   "metadata": {},
   "source": [
    "----\n",
    "### Quick Sort\n"
   ]
  },
  {
   "cell_type": "code",
   "execution_count": 42,
   "metadata": {},
   "outputs": [],
   "source": [
    "def quick_sort(a):  #initial call function that calls the recursive quickSort\n",
    "    start = 0\n",
    "    end = (len(a) - 1)\n",
    "    count = 0\n",
    "    count = quickSort(a, start, end, count)\n",
    "    return count\n",
    "\n",
    "def myPartition(A, start, end, count): #uses the last value in the array as the pivot\n",
    "    \n",
    "    i = start - 1\n",
    "    pivot = A[end]\n",
    "    for j in range(start, (end)):\n",
    "        count += 1\n",
    "        if A[j] <= A[end]: #if the value is less than the pivot\n",
    "            i += 1 #grow the less than sorted reagon\n",
    "            A[i], A[j] = A[j], A[i] #swap the values\n",
    "           \n",
    "    A[i + 1], A[end] = A[end], A[i+1]\n",
    "    \n",
    "    return i + 1, count #returns pivot index\n",
    "    \n",
    "    \n",
    "def quickSort(A, start, end, count):\n",
    "    \n",
    "    if len(A) == 1:\n",
    "        return count\n",
    "    \n",
    "    if start < end:\n",
    "        pi, count = myPartition(A, start, end, count)\n",
    "        count = quickSort(A, start, (pi - 1),count)\n",
    "        count = quickSort(A,(pi + 1), (end),count)\n",
    "        \n",
    "    return count\n"
   ]
  },
  {
   "cell_type": "markdown",
   "metadata": {},
   "source": [
    "### Complexity Analysis of Quick Sort\n",
    "\n",
    "As per the video the average case for quick sort will be $\\Theta\\ (nlog(n)$). The worst case will be $\\Theta\\ (n^2)$. The worst case occurs in ascending sort if the largest value is always picked as the pivot. This is because it the largest number is picked quick sort will run through the entire list and partition everything on the left of the pivot in $n$ time. Then it will do this again for every value in the list or n times including the first. This then gives us $\\Theta\\ (n^2)$ as our time.\n"
   ]
  },
  {
   "cell_type": "code",
   "execution_count": 43,
   "metadata": {},
   "outputs": [
    {
     "data": {
      "image/png": "[encoded data removed]",
      "text/plain": [
       "<Figure size 432x288 with 1 Axes>"
      ]
     },
     "metadata": {
      "needs_background": "light"
     },
     "output_type": "display_data"
    }
   ],
   "source": [
    "wcQuickSortLists = makeList(5,20,5)\n",
    "wcQuickCount = []\n",
    "for lists in wcQuickSortLists:\n",
    "    lists.sort()\n",
    "    wcQuickCount.append(quick_sort(lists))\n",
    "\n",
    "\n",
    "quickCount = []\n",
    "for i in range(5,105,5):\n",
    "    quickSortLists = makeList(i,1000,0)\n",
    "    totalCount = 0\n",
    "    count = 0\n",
    "    \n",
    "    for lists in quickSortLists:\n",
    "        count = quick_sort(lists)\n",
    "        totalCount += count\n",
    "    \n",
    "    totalCount = totalCount / 1000\n",
    "    quickCount.append(totalCount)\n",
    "\n",
    "array_sizes = range(5, 105, 5)\n",
    "plt.plot(array_sizes, wcQuickCount, label='Worst Case')\n",
    "plt.plot(array_sizes, quickCount, label='Average Case')\n",
    "plt.legend(['Worst Case', 'Average Case'])\n",
    "plt.title('quickSort (Worst and Average Cases)')\n",
    "plt.xlabel('Array Size')\n",
    "plt.ylabel('Number of Comparisons')\n",
    "\n",
    "plt.show()"
   ]
  },
  {
   "cell_type": "markdown",
   "metadata": {},
   "source": [
    "-----\n",
    "## Testing Code: Do not edit\n",
    "\n"
   ]
  },
  {
   "cell_type": "code",
   "execution_count": 44,
   "metadata": {},
   "outputs": [],
   "source": [
    "def test_sorting_algorithm(sort_fun, sz, num_trials):\n",
    "    num_passed = 0\n",
    "    for i in range(num_trials):\n",
    "        a = create_random_shuffled_array(sz)\n",
    "        a_orig = list(a) # make a copy\n",
    "        b = sorted(a)\n",
    "        nc = sort_fun(a)\n",
    "        if a == b:\n",
    "            num_passed = num_passed + 1\n",
    "        else:\n",
    "            print('----')\n",
    "            print('FAILED: Input = ', a_orig)\n",
    "            print('Expected: ', b)\n",
    "            print('Obtained:', a)\n",
    "            print('----')\n",
    "    print('Num Trials = ', num_trials)\n",
    "    print('Num Passed = ', num_passed)"
   ]
  },
  {
   "cell_type": "code",
   "execution_count": 45,
   "metadata": {},
   "outputs": [
    {
     "name": "stdout",
     "output_type": "stream",
     "text": [
      "Num Trials =  100\n",
      "Num Passed =  100\n"
     ]
    }
   ],
   "source": [
    "test_sorting_algorithm(simple_sort, 50, 100)"
   ]
  },
  {
   "cell_type": "code",
   "execution_count": 46,
   "metadata": {},
   "outputs": [
    {
     "name": "stdout",
     "output_type": "stream",
     "text": [
      "Num Trials =  10\n",
      "Num Passed =  10\n"
     ]
    }
   ],
   "source": [
    "test_sorting_algorithm(bubble_sort, 10, 10)"
   ]
  },
  {
   "cell_type": "code",
   "execution_count": 47,
   "metadata": {},
   "outputs": [
    {
     "name": "stdout",
     "output_type": "stream",
     "text": [
      "Num Trials =  10\n",
      "Num Passed =  10\n"
     ]
    }
   ],
   "source": [
    "test_sorting_algorithm(merge_sort, 10, 10)"
   ]
  },
  {
   "cell_type": "code",
   "execution_count": 48,
   "metadata": {},
   "outputs": [
    {
     "name": "stdout",
     "output_type": "stream",
     "text": [
      "Num Trials =  10\n",
      "Num Passed =  10\n"
     ]
    }
   ],
   "source": [
    "test_sorting_algorithm(quick_sort, 10, 10)"
   ]
  },
  {
   "cell_type": "code",
   "execution_count": null,
   "metadata": {},
   "outputs": [],
   "source": []
  }
 ],
 "metadata": {
  "kernelspec": {
   "display_name": "Python 3",
   "language": "python",
   "name": "python3"
  },
  "language_info": {
   "codemirror_mode": {
    "name": "ipython",
    "version": 3
   },
   "file_extension": ".py",
   "mimetype": "text/x-python",
   "name": "python",
   "nbconvert_exporter": "python",
   "pygments_lexer": "ipython3",
   "version": "3.8.5"
  }
 },
 "nbformat": 4,
 "nbformat_minor": 2
}
